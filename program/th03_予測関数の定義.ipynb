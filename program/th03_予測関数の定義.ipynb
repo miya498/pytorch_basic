{
  "nbformat": 4,
  "nbformat_minor": 0,
  "metadata": {
    "colab": {
      "provenance": [],
      "authorship_tag": "ABX9TyMAgtLgTvhS9203lD8iZLST",
      "include_colab_link": true
    },
    "kernelspec": {
      "name": "python3",
      "display_name": "Python 3"
    },
    "language_info": {
      "name": "python"
    }
  },
  "cells": [
    {
      "cell_type": "markdown",
      "metadata": {
        "id": "view-in-github",
        "colab_type": "text"
      },
      "source": [
        "<a href=\"https://colab.research.google.com/github/miya498/pytorch_basic/blob/main/program/th03_%E4%BA%88%E6%B8%AC%E9%96%A2%E6%95%B0%E3%81%AE%E5%AE%9A%E7%BE%A9.ipynb\" target=\"_parent\"><img src=\"https://colab.research.google.com/assets/colab-badge.svg\" alt=\"Open In Colab\"/></a>"
      ]
    },
    {
      "cell_type": "markdown",
      "source": [
        "#4章予測関数定義"
      ],
      "metadata": {
        "id": "01mHRPDD2rii"
      }
    },
    {
      "cell_type": "code",
      "source": [
        "# 必要ライブラリの導入\n",
        "\n",
        "!pip install japanize_matplotlib | tail -n 1\n",
        "!pip install torchviz | tail -n 1\n",
        "\n",
        "# 必要ライブラリのインポート\n",
        "\n",
        "%matplotlib inline\n",
        "import numpy as np\n",
        "import matplotlib.pyplot as plt\n",
        "import japanize_matplotlib\n",
        "\n",
        "# PyTorch関連ライブラリ\n",
        "import torch\n",
        "import torch.nn as nn\n",
        "from torchviz import make_dot\n",
        "\n",
        "# デフォルトフォントサイズ変更\n",
        "plt.rcParams['font.size'] = 14\n",
        "\n",
        "# デフォルトグラフサイズ変更\n",
        "plt.rcParams['figure.figsize'] = (6,6)\n",
        "\n",
        "# デフォルトで方眼表示ON\n",
        "plt.rcParams['axes.grid'] = True\n",
        "\n",
        "# numpyの浮動小数点の表示精度\n",
        "np.set_printoptions(suppress=True, precision=4)"
      ],
      "metadata": {
        "colab": {
          "base_uri": "https://localhost:8080/"
        },
        "id": "iVGNnXbj2u6-",
        "outputId": "1e4669c5-3e0f-48e9-b720-d555c747ff71"
      },
      "execution_count": 1,
      "outputs": [
        {
          "output_type": "stream",
          "name": "stdout",
          "text": [
            "Successfully installed japanize_matplotlib-1.1.3\n",
            "Successfully installed nvidia-cublas-cu12-12.1.3.1 nvidia-cuda-cupti-cu12-12.1.105 nvidia-cuda-nvrtc-cu12-12.1.105 nvidia-cuda-runtime-cu12-12.1.105 nvidia-cudnn-cu12-8.9.2.26 nvidia-cufft-cu12-11.0.2.54 nvidia-curand-cu12-10.3.2.106 nvidia-cusolver-cu12-11.4.5.107 nvidia-cusparse-cu12-12.1.0.106 nvidia-nccl-cu12-2.19.3 nvidia-nvjitlink-cu12-12.4.99 nvidia-nvtx-cu12-12.1.105 torchviz-0.0.2\n"
          ]
        }
      ]
    },
    {
      "cell_type": "markdown",
      "source": [
        "#4.4 予測関数の内部構造"
      ],
      "metadata": {
        "id": "bcTKEWll3C-i"
      }
    },
    {
      "cell_type": "code",
      "source": [
        "# レイヤー関数定義\n",
        "\n",
        "# 最初の線形関数\n",
        "# 784 入力数\n",
        "# 128 出力数\n",
        "l1 = nn.Linear(784, 128)\n",
        "\n",
        "# 2番目の線形関数\n",
        "# 128 入力数\n",
        "# 10 出力数\n",
        "l2 = nn.Linear(128, 10)\n",
        "\n",
        "# 活性化関数\n",
        "relu = nn.ReLU(inplace=True)"
      ],
      "metadata": {
        "id": "q1jeRQ2b2ww-"
      },
      "execution_count": 2,
      "outputs": []
    },
    {
      "cell_type": "code",
      "source": [
        "# 入力テンソルから出力テンソルを計算\n",
        "\n",
        "# ダミー入力データを作成\n",
        "inputs = torch.randn(100, 784)\n",
        "\n",
        "# 中間テンソル1の計算\n",
        "m1 = l1(inputs)\n",
        "\n",
        "# 中間テンソル2の計算\n",
        "m2 = relu(m1)\n",
        "\n",
        "# 出力テンソルの計算\n",
        "outputs = l2(m2)\n",
        "\n",
        "# 入力テンソルと出力テンソルのshape確認\n",
        "print('入力テンソル', inputs.shape)\n",
        "print('出力テンソル', outputs.shape)"
      ],
      "metadata": {
        "colab": {
          "base_uri": "https://localhost:8080/"
        },
        "id": "6iZtV9wo332z",
        "outputId": "ac5f6ea5-9ff5-4655-dc5e-19164ff2d80a"
      },
      "execution_count": 3,
      "outputs": [
        {
          "output_type": "stream",
          "name": "stdout",
          "text": [
            "入力テンソル torch.Size([100, 784])\n",
            "出力テンソル torch.Size([100, 10])\n"
          ]
        }
      ]
    },
    {
      "cell_type": "code",
      "source": [
        "# nn.Sequentialを使って、全体を合成関数として定義\n",
        "\n",
        "net2 = nn.Sequential(\n",
        "    l1,\n",
        "    relu,\n",
        "    l2\n",
        ")\n",
        "\n",
        "outputs2 = net2(inputs)\n",
        "\n",
        "# 入力テンソルと出力テンソルのshape確認\n",
        "print('入力テンソル', inputs.shape)\n",
        "print('出力テンソル', outputs2.shape)"
      ],
      "metadata": {
        "colab": {
          "base_uri": "https://localhost:8080/"
        },
        "id": "nC9L15tw6akG",
        "outputId": "6b8af5d6-9766-44cc-ac8c-93c8c2d9d190"
      },
      "execution_count": 4,
      "outputs": [
        {
          "output_type": "stream",
          "name": "stdout",
          "text": [
            "入力テンソル torch.Size([100, 784])\n",
            "出力テンソル torch.Size([100, 10])\n"
          ]
        }
      ]
    },
    {
      "cell_type": "markdown",
      "source": [
        "#活性化関数の目的"
      ],
      "metadata": {
        "id": "RWYLMpCv6f_j"
      }
    },
    {
      "cell_type": "code",
      "source": [
        "# 訓練データ、検証データの計算\n",
        "np.random.seed(123)\n",
        "x = np.random.randn(100,1)\n",
        "\n",
        "# yの値はx^2に乱数の要素を1/10程度付加した\n",
        "y = x**2 + np.random.randn(100,1) * 0.1\n",
        "\n",
        "# データを50件ずつに分け、それぞれ訓練用、検証用とする\n",
        "x_train = x[:50,:]\n",
        "x_test = x[50:,:]\n",
        "y_train = y[:50,:]\n",
        "y_test = y[50:,:]"
      ],
      "metadata": {
        "id": "7PBQHMuw6cwQ"
      },
      "execution_count": 5,
      "outputs": []
    },
    {
      "cell_type": "code",
      "source": [
        "# 散布図表示\n",
        "plt.scatter(x_train, y_train, c='b', label='訓練データ')\n",
        "plt.scatter(x_test, y_test, c='k', marker='x', label='検証データ')\n",
        "plt.legend()\n",
        "plt.show()"
      ],
      "metadata": {
        "colab": {
          "base_uri": "https://localhost:8080/",
          "height": 527
        },
        "id": "dCejtg2A6kBu",
        "outputId": "0346b1a6-7e39-4679-e6dc-e101b746ca2b"
      },
      "execution_count": 6,
      "outputs": [
        {
          "output_type": "display_data",
          "data": {
            "text/plain": [
              "<Figure size 600x600 with 1 Axes>"
            ],
            "image/png": "[encoded data removed]"
          },
          "metadata": {}
        }
      ]
    },
    {
      "cell_type": "code",
      "source": [
        "# 入力変数x と正解値 ytのTensor化\n",
        "\n",
        "inputs = torch.tensor(x_train).float()\n",
        "labels = torch.tensor(y_train).float()\n",
        "\n",
        "inputs_test = torch.tensor(x_test).float()\n",
        "labels_test = torch.tensor(y_test).float()"
      ],
      "metadata": {
        "id": "lyP8-i026mEY"
      },
      "execution_count": 7,
      "outputs": []
    },
    {
      "cell_type": "code",
      "source": [
        "import torch.optim as optim"
      ],
      "metadata": {
        "id": "0eI4JBg-6oIp"
      },
      "execution_count": 8,
      "outputs": []
    },
    {
      "cell_type": "markdown",
      "source": [
        "##単回帰の場合"
      ],
      "metadata": {
        "id": "MX2fAu276vrX"
      }
    },
    {
      "cell_type": "code",
      "source": [
        "# モデルの定義\n",
        "\n",
        "class Net1(nn.Module):\n",
        "    def __init__(self):\n",
        "        #  親クラスnn.Modulesの初期化呼び出し\n",
        "        super().__init__()\n",
        "\n",
        "        # 出力層の定義\n",
        "        self.l1 = nn.Linear(1, 1)\n",
        "\n",
        "    # 予測関数の定義\n",
        "    def forward(self, x):\n",
        "        x1 = self.l1(x) # 線形回帰\n",
        "        return x1"
      ],
      "metadata": {
        "id": "4yKdSosP6qRi"
      },
      "execution_count": 9,
      "outputs": []
    },
    {
      "cell_type": "code",
      "source": [
        "# 学習率\n",
        "lr = 0.01\n",
        "\n",
        "# インスタンス生成　(パラメータ値初期化)\n",
        "net1= Net1()\n",
        "\n",
        "# 最適化アルゴリズム: 勾配降下法\n",
        "optimizer = optim.SGD(net1.parameters(), lr=lr)\n",
        "\n",
        "# 損失関数： 最小二乗誤差\n",
        "criterion = nn.MSELoss()\n",
        "\n",
        "# 繰り返し回数\n",
        "num_epochs = 10000\n",
        "\n",
        "# 評価結果記録用 (損失関数値のみ記録)\n",
        "history = np.zeros((0,2))"
      ],
      "metadata": {
        "id": "Vh-vc4-p7DmZ"
      },
      "execution_count": 10,
      "outputs": []
    },
    {
      "cell_type": "code",
      "source": [
        "# 繰り返し計算メインループ\n",
        "\n",
        "for epoch in range(num_epochs):\n",
        "\n",
        "    # 勾配値初期化\n",
        "    optimizer.zero_grad()\n",
        "\n",
        "    # 予測計算\n",
        "    outputs = net1(inputs)\n",
        "\n",
        "    # 誤差計算\n",
        "    loss = criterion(outputs, labels)\n",
        "\n",
        "    #勾配計算\n",
        "    loss.backward()\n",
        "\n",
        "    # 勾配降下法の適用\n",
        "    optimizer.step()\n",
        "\n",
        "    # 100回ごとに途中経過を記録する\n",
        "    if ( epoch % 100 == 0):\n",
        "        history = np.vstack((history, np.array([epoch, loss.item()])))\n",
        "        print(f'Epoch {epoch} loss: {loss.item():.5f}')"
      ],
      "metadata": {
        "id": "c3pup5cz9nXV",
        "outputId": "ac694405-985d-4db7-b265-9a120efddaf4",
        "colab": {
          "base_uri": "https://localhost:8080/"
        }
      },
      "execution_count": 12,
      "outputs": [
        {
          "output_type": "stream",
          "name": "stdout",
          "text": [
            "Epoch 0 loss: 5.51238\n",
            "Epoch 100 loss: 3.25591\n",
            "Epoch 200 loss: 3.21616\n",
            "Epoch 300 loss: 3.21546\n",
            "Epoch 400 loss: 3.21544\n",
            "Epoch 500 loss: 3.21544\n",
            "Epoch 600 loss: 3.21544\n",
            "Epoch 700 loss: 3.21544\n",
            "Epoch 800 loss: 3.21544\n",
            "Epoch 900 loss: 3.21544\n",
            "Epoch 1000 loss: 3.21544\n",
            "Epoch 1100 loss: 3.21544\n",
            "Epoch 1200 loss: 3.21544\n",
            "Epoch 1300 loss: 3.21544\n",
            "Epoch 1400 loss: 3.21544\n",
            "Epoch 1500 loss: 3.21544\n",
            "Epoch 1600 loss: 3.21544\n",
            "Epoch 1700 loss: 3.21544\n",
            "Epoch 1800 loss: 3.21544\n",
            "Epoch 1900 loss: 3.21544\n",
            "Epoch 2000 loss: 3.21544\n",
            "Epoch 2100 loss: 3.21544\n",
            "Epoch 2200 loss: 3.21544\n",
            "Epoch 2300 loss: 3.21544\n",
            "Epoch 2400 loss: 3.21544\n",
            "Epoch 2500 loss: 3.21544\n",
            "Epoch 2600 loss: 3.21544\n",
            "Epoch 2700 loss: 3.21544\n",
            "Epoch 2800 loss: 3.21544\n",
            "Epoch 2900 loss: 3.21544\n",
            "Epoch 3000 loss: 3.21544\n",
            "Epoch 3100 loss: 3.21544\n",
            "Epoch 3200 loss: 3.21544\n",
            "Epoch 3300 loss: 3.21544\n",
            "Epoch 3400 loss: 3.21544\n",
            "Epoch 3500 loss: 3.21544\n",
            "Epoch 3600 loss: 3.21544\n",
            "Epoch 3700 loss: 3.21544\n",
            "Epoch 3800 loss: 3.21544\n",
            "Epoch 3900 loss: 3.21544\n",
            "Epoch 4000 loss: 3.21544\n",
            "Epoch 4100 loss: 3.21544\n",
            "Epoch 4200 loss: 3.21544\n",
            "Epoch 4300 loss: 3.21544\n",
            "Epoch 4400 loss: 3.21544\n",
            "Epoch 4500 loss: 3.21544\n",
            "Epoch 4600 loss: 3.21544\n",
            "Epoch 4700 loss: 3.21544\n",
            "Epoch 4800 loss: 3.21544\n",
            "Epoch 4900 loss: 3.21544\n",
            "Epoch 5000 loss: 3.21544\n",
            "Epoch 5100 loss: 3.21544\n",
            "Epoch 5200 loss: 3.21544\n",
            "Epoch 5300 loss: 3.21544\n",
            "Epoch 5400 loss: 3.21544\n",
            "Epoch 5500 loss: 3.21544\n",
            "Epoch 5600 loss: 3.21544\n",
            "Epoch 5700 loss: 3.21544\n",
            "Epoch 5800 loss: 3.21544\n",
            "Epoch 5900 loss: 3.21544\n",
            "Epoch 6000 loss: 3.21544\n",
            "Epoch 6100 loss: 3.21544\n",
            "Epoch 6200 loss: 3.21544\n",
            "Epoch 6300 loss: 3.21544\n",
            "Epoch 6400 loss: 3.21544\n",
            "Epoch 6500 loss: 3.21544\n",
            "Epoch 6600 loss: 3.21544\n",
            "Epoch 6700 loss: 3.21544\n",
            "Epoch 6800 loss: 3.21544\n",
            "Epoch 6900 loss: 3.21544\n",
            "Epoch 7000 loss: 3.21544\n",
            "Epoch 7100 loss: 3.21544\n",
            "Epoch 7200 loss: 3.21544\n",
            "Epoch 7300 loss: 3.21544\n",
            "Epoch 7400 loss: 3.21544\n",
            "Epoch 7500 loss: 3.21544\n",
            "Epoch 7600 loss: 3.21544\n",
            "Epoch 7700 loss: 3.21544\n",
            "Epoch 7800 loss: 3.21544\n",
            "Epoch 7900 loss: 3.21544\n",
            "Epoch 8000 loss: 3.21544\n",
            "Epoch 8100 loss: 3.21544\n",
            "Epoch 8200 loss: 3.21544\n",
            "Epoch 8300 loss: 3.21544\n",
            "Epoch 8400 loss: 3.21544\n",
            "Epoch 8500 loss: 3.21544\n",
            "Epoch 8600 loss: 3.21544\n",
            "Epoch 8700 loss: 3.21544\n",
            "Epoch 8800 loss: 3.21544\n",
            "Epoch 8900 loss: 3.21544\n",
            "Epoch 9000 loss: 3.21544\n",
            "Epoch 9100 loss: 3.21544\n",
            "Epoch 9200 loss: 3.21544\n",
            "Epoch 9300 loss: 3.21544\n",
            "Epoch 9400 loss: 3.21544\n",
            "Epoch 9500 loss: 3.21544\n",
            "Epoch 9600 loss: 3.21544\n",
            "Epoch 9700 loss: 3.21544\n",
            "Epoch 9800 loss: 3.21544\n",
            "Epoch 9900 loss: 3.21544\n"
          ]
        }
      ]
    },
    {
      "cell_type": "code",
      "source": [
        "# 結果の可視化\n",
        "labels_pred3 = net1(inputs_test)\n",
        "\n",
        "plt.title('隠れ層なし　活性化関数なし')\n",
        "plt.scatter(inputs_test[:,0].data, labels_pred3[:,0].data, c='b', label='予測値')\n",
        "plt.scatter(inputs_test[:,0].data, labels_test[:,0].data, c='k', marker='x',label='正解値')\n",
        "plt.legend()\n",
        "plt.show()"
      ],
      "metadata": {
        "colab": {
          "base_uri": "https://localhost:8080/",
          "height": 552
        },
        "id": "jMLF6-ZxQiOD",
        "outputId": "9ea29758-932e-41c0-9ab3-1df113881ff3"
      },
      "execution_count": 13,
      "outputs": [
        {
          "output_type": "display_data",
          "data": {
            "text/plain": [
              "<Figure size 600x600 with 1 Axes>"
            ],
            "image/png": "[encoded data removed]"
          },
          "metadata": {}
        }
      ]
    },
    {
      "cell_type": "markdown",
      "source": [
        "#疑似ディープラーニングの場合"
      ],
      "metadata": {
        "id": "oY4nIWB0o1Nk"
      }
    },
    {
      "cell_type": "code",
      "source": [
        "# モデルの定義\n",
        "\n",
        "class Net2(nn.Module):\n",
        "    def __init__(self):\n",
        "        #  親クラスnn.Modulesの初期化呼び出し\n",
        "        super().__init__()\n",
        "\n",
        "        # 出力層の定義\n",
        "        self.l1 = nn.Linear(1, 10)\n",
        "        self.l2 = nn.Linear(10, 10)\n",
        "        self.l3 = nn.Linear(10,1)\n",
        "\n",
        "    # 予測関数の定義\n",
        "    def forward(self, x):\n",
        "        x1 = self.l1(x)\n",
        "        x2 = self.l2(x1)\n",
        "        x3 = self.l3(x2)\n",
        "        return x3"
      ],
      "metadata": {
        "id": "tFZbEzPKo5EE"
      },
      "execution_count": 14,
      "outputs": []
    },
    {
      "cell_type": "code",
      "source": [
        "# 学習率\n",
        "lr = 0.01\n",
        "\n",
        "# インスタンス生成　(パラメータ値初期化)\n",
        "net2 = Net2()\n",
        "\n",
        "# 最適化アルゴリズム: 勾配降下法\n",
        "optimizer = optim.SGD(net2.parameters(), lr=lr)\n",
        "\n",
        "# 損失関数： 最小二乗誤差\n",
        "criterion = nn.MSELoss()\n",
        "\n",
        "# 繰り返し回数\n",
        "num_epochs = 10000\n",
        "\n",
        "# 評価結果記録用 (損失関数値のみ記録)\n",
        "history = np.zeros((0,2))"
      ],
      "metadata": {
        "id": "uFCtrZ2io7Rz"
      },
      "execution_count": 15,
      "outputs": []
    },
    {
      "cell_type": "code",
      "source": [
        "# 繰り返し計算メインループ\n",
        "\n",
        "for epoch in range(num_epochs):\n",
        "\n",
        "    # 勾配値初期化\n",
        "    optimizer.zero_grad()\n",
        "\n",
        "    # 予測計算\n",
        "    outputs = net2(inputs)\n",
        "\n",
        "    # 誤差計算\n",
        "    loss = criterion(outputs, labels)\n",
        "\n",
        "    #勾配計算\n",
        "    loss.backward()\n",
        "\n",
        "    # 勾配降下法の適用\n",
        "    optimizer.step()\n",
        "\n",
        "    # 100回ごとに途中経過を記録する\n",
        "    if ( epoch % 100 == 0):\n",
        "        history = np.vstack((history, np.array([epoch, loss.item()])))\n",
        "        print(f'Epoch {epoch} loss: {loss.item():.5f}')"
      ],
      "metadata": {
        "colab": {
          "base_uri": "https://localhost:8080/"
        },
        "id": "c4lGtpZupHk5",
        "outputId": "88a18454-71a0-4a89-dd5d-dd7f35f324ac"
      },
      "execution_count": 16,
      "outputs": [
        {
          "output_type": "stream",
          "name": "stdout",
          "text": [
            "Epoch 0 loss: 4.83112\n",
            "Epoch 100 loss: 3.21544\n",
            "Epoch 200 loss: 3.21544\n",
            "Epoch 300 loss: 3.21544\n",
            "Epoch 400 loss: 3.21544\n",
            "Epoch 500 loss: 3.21544\n",
            "Epoch 600 loss: 3.21544\n",
            "Epoch 700 loss: 3.21544\n",
            "Epoch 800 loss: 3.21544\n",
            "Epoch 900 loss: 3.21544\n",
            "Epoch 1000 loss: 3.21544\n",
            "Epoch 1100 loss: 3.21544\n",
            "Epoch 1200 loss: 3.21544\n",
            "Epoch 1300 loss: 3.21544\n",
            "Epoch 1400 loss: 3.21544\n",
            "Epoch 1500 loss: 3.21544\n",
            "Epoch 1600 loss: 3.21544\n",
            "Epoch 1700 loss: 3.21544\n",
            "Epoch 1800 loss: 3.21544\n",
            "Epoch 1900 loss: 3.21544\n",
            "Epoch 2000 loss: 3.21544\n",
            "Epoch 2100 loss: 3.21544\n",
            "Epoch 2200 loss: 3.21544\n",
            "Epoch 2300 loss: 3.21544\n",
            "Epoch 2400 loss: 3.21544\n",
            "Epoch 2500 loss: 3.21544\n",
            "Epoch 2600 loss: 3.21544\n",
            "Epoch 2700 loss: 3.21544\n",
            "Epoch 2800 loss: 3.21544\n",
            "Epoch 2900 loss: 3.21544\n",
            "Epoch 3000 loss: 3.21544\n",
            "Epoch 3100 loss: 3.21544\n",
            "Epoch 3200 loss: 3.21544\n",
            "Epoch 3300 loss: 3.21544\n",
            "Epoch 3400 loss: 3.21544\n",
            "Epoch 3500 loss: 3.21544\n",
            "Epoch 3600 loss: 3.21544\n",
            "Epoch 3700 loss: 3.21544\n",
            "Epoch 3800 loss: 3.21544\n",
            "Epoch 3900 loss: 3.21544\n",
            "Epoch 4000 loss: 3.21544\n",
            "Epoch 4100 loss: 3.21544\n",
            "Epoch 4200 loss: 3.21544\n",
            "Epoch 4300 loss: 3.21544\n",
            "Epoch 4400 loss: 3.21544\n",
            "Epoch 4500 loss: 3.21544\n",
            "Epoch 4600 loss: 3.21544\n",
            "Epoch 4700 loss: 3.21544\n",
            "Epoch 4800 loss: 3.21544\n",
            "Epoch 4900 loss: 3.21544\n",
            "Epoch 5000 loss: 3.21544\n",
            "Epoch 5100 loss: 3.21544\n",
            "Epoch 5200 loss: 3.21544\n",
            "Epoch 5300 loss: 3.21544\n",
            "Epoch 5400 loss: 3.21544\n",
            "Epoch 5500 loss: 3.21544\n",
            "Epoch 5600 loss: 3.21544\n",
            "Epoch 5700 loss: 3.21544\n",
            "Epoch 5800 loss: 3.21544\n",
            "Epoch 5900 loss: 3.21544\n",
            "Epoch 6000 loss: 3.21544\n",
            "Epoch 6100 loss: 3.21544\n",
            "Epoch 6200 loss: 3.21544\n",
            "Epoch 6300 loss: 3.21544\n",
            "Epoch 6400 loss: 3.21544\n",
            "Epoch 6500 loss: 3.21544\n",
            "Epoch 6600 loss: 3.21544\n",
            "Epoch 6700 loss: 3.21544\n",
            "Epoch 6800 loss: 3.21544\n",
            "Epoch 6900 loss: 3.21544\n",
            "Epoch 7000 loss: 3.21544\n",
            "Epoch 7100 loss: 3.21544\n",
            "Epoch 7200 loss: 3.21544\n",
            "Epoch 7300 loss: 3.21544\n",
            "Epoch 7400 loss: 3.21544\n",
            "Epoch 7500 loss: 3.21544\n",
            "Epoch 7600 loss: 3.21544\n",
            "Epoch 7700 loss: 3.21544\n",
            "Epoch 7800 loss: 3.21544\n",
            "Epoch 7900 loss: 3.21544\n",
            "Epoch 8000 loss: 3.21544\n",
            "Epoch 8100 loss: 3.21544\n",
            "Epoch 8200 loss: 3.21544\n",
            "Epoch 8300 loss: 3.21544\n",
            "Epoch 8400 loss: 3.21544\n",
            "Epoch 8500 loss: 3.21544\n",
            "Epoch 8600 loss: 3.21544\n",
            "Epoch 8700 loss: 3.21544\n",
            "Epoch 8800 loss: 3.21544\n",
            "Epoch 8900 loss: 3.21544\n",
            "Epoch 9000 loss: 3.21544\n",
            "Epoch 9100 loss: 3.21544\n",
            "Epoch 9200 loss: 3.21544\n",
            "Epoch 9300 loss: 3.21544\n",
            "Epoch 9400 loss: 3.21544\n",
            "Epoch 9500 loss: 3.21544\n",
            "Epoch 9600 loss: 3.21544\n",
            "Epoch 9700 loss: 3.21544\n",
            "Epoch 9800 loss: 3.21544\n",
            "Epoch 9900 loss: 3.21544\n"
          ]
        }
      ]
    },
    {
      "cell_type": "code",
      "source": [
        "# 結果のグラフ化\n",
        "labels_pred2 = net2(inputs_test)\n",
        "\n",
        "plt.title('隠れ層２層　活性化関数なし')\n",
        "plt.scatter(inputs_test[:,0].data, labels_pred2[:,0].data, c='b', label='予測値')\n",
        "plt.scatter(inputs_test[:,0].data, labels_test[:,0].data, c='k', marker='x',label='正解値')\n",
        "plt.legend()\n",
        "plt.show()"
      ],
      "metadata": {
        "colab": {
          "base_uri": "https://localhost:8080/",
          "height": 552
        },
        "id": "JvGIXqD3pL0u",
        "outputId": "855af1cf-3b3a-411b-a932-b6ae1a0ed938"
      },
      "execution_count": 17,
      "outputs": [
        {
          "output_type": "display_data",
          "data": {
            "text/plain": [
              "<Figure size 600x600 with 1 Axes>"
            ],
            "image/png": "[encoded data removed]"
          },
          "metadata": {}
        }
      ]
    },
    {
      "cell_type": "markdown",
      "source": [
        "#ディープラーニング(活性化関数あり)の場合"
      ],
      "metadata": {
        "id": "hxGo7hWqpSk_"
      }
    },
    {
      "cell_type": "code",
      "source": [
        "# モデルの定義\n",
        "\n",
        "class Net3(nn.Module):\n",
        "    def __init__(self):\n",
        "        #  親クラスnn.Modulesの初期化呼び出し\n",
        "        super().__init__()\n",
        "\n",
        "        # 出力層の定義\n",
        "        self.l1 = nn.Linear(1, 10)\n",
        "        self.l2 = nn.Linear(10, 10)\n",
        "        self.l3 = nn.Linear(10,1)\n",
        "        self.relu = nn.ReLU(inplace=True)\n",
        "\n",
        "    # 予測関数の定義\n",
        "    def forward(self, x):\n",
        "        x1 = self.relu(self.l1(x))\n",
        "        x2 = self.relu(self.l2(x1))\n",
        "        x3 = self.l3(x2)\n",
        "        return x3"
      ],
      "metadata": {
        "id": "4GqyV1EppR4i"
      },
      "execution_count": 18,
      "outputs": []
    },
    {
      "cell_type": "code",
      "source": [
        "# 学習率\n",
        "lr = 0.01\n",
        "\n",
        "# インスタンス生成　(パラメータ値初期化)\n",
        "net3 = Net3()\n",
        "\n",
        "# 最適化アルゴリズム: 勾配降下法\n",
        "optimizer = optim.SGD(net3.parameters(), lr=lr)\n",
        "\n",
        "# 損失関数： 最小二乗誤差\n",
        "criterion = nn.MSELoss()\n",
        "\n",
        "# 繰り返し回数\n",
        "num_epochs = 10000\n",
        "\n",
        "# 評価結果記録用 (損失関数値のみ記録)\n",
        "history = np.zeros((0,2))"
      ],
      "metadata": {
        "id": "rhE-Z4fgpV5l"
      },
      "execution_count": 19,
      "outputs": []
    },
    {
      "cell_type": "code",
      "source": [
        "# 繰り返し計算メインループ\n",
        "\n",
        "for epoch in range(num_epochs):\n",
        "\n",
        "    # 勾配値初期化\n",
        "    optimizer.zero_grad()\n",
        "\n",
        "    # 予測計算\n",
        "    outputs = net3(inputs)\n",
        "\n",
        "    # 誤差計算\n",
        "    loss = criterion(outputs, labels)\n",
        "\n",
        "    #勾配計算\n",
        "    loss.backward()\n",
        "\n",
        "    # 勾配降下法の適用\n",
        "    optimizer.step()\n",
        "\n",
        "    # 100回ごとに途中経過を記録する\n",
        "    if ( epoch % 100 == 0):\n",
        "        history = np.vstack((history, np.array([epoch, loss.item()])))\n",
        "        print(f'Epoch {epoch} loss: {loss.item():.5f}')"
      ],
      "metadata": {
        "colab": {
          "base_uri": "https://localhost:8080/"
        },
        "id": "N0wf6GFRpX94",
        "outputId": "0ce44270-f103-4191-add8-b5a67f9dba92"
      },
      "execution_count": 20,
      "outputs": [
        {
          "output_type": "stream",
          "name": "stdout",
          "text": [
            "Epoch 0 loss: 5.26132\n",
            "Epoch 100 loss: 0.76883\n",
            "Epoch 200 loss: 0.12757\n",
            "Epoch 300 loss: 0.06084\n",
            "Epoch 400 loss: 0.04127\n",
            "Epoch 500 loss: 0.03310\n",
            "Epoch 600 loss: 0.02844\n",
            "Epoch 700 loss: 0.02421\n",
            "Epoch 800 loss: 0.02221\n",
            "Epoch 900 loss: 0.02122\n",
            "Epoch 1000 loss: 0.02062\n",
            "Epoch 1100 loss: 0.02017\n",
            "Epoch 1200 loss: 0.01980\n",
            "Epoch 1300 loss: 0.01950\n",
            "Epoch 1400 loss: 0.01933\n",
            "Epoch 1500 loss: 0.01918\n",
            "Epoch 1600 loss: 0.01908\n",
            "Epoch 1700 loss: 0.01898\n",
            "Epoch 1800 loss: 0.01889\n",
            "Epoch 1900 loss: 0.01845\n",
            "Epoch 2000 loss: 0.01810\n",
            "Epoch 2100 loss: 0.01786\n",
            "Epoch 2200 loss: 0.01766\n",
            "Epoch 2300 loss: 0.01750\n",
            "Epoch 2400 loss: 0.01735\n",
            "Epoch 2500 loss: 0.01724\n",
            "Epoch 2600 loss: 0.01714\n",
            "Epoch 2700 loss: 0.01697\n",
            "Epoch 2800 loss: 0.01652\n",
            "Epoch 2900 loss: 0.01625\n",
            "Epoch 3000 loss: 0.01604\n",
            "Epoch 3100 loss: 0.01588\n",
            "Epoch 3200 loss: 0.01573\n",
            "Epoch 3300 loss: 0.01560\n",
            "Epoch 3400 loss: 0.01546\n",
            "Epoch 3500 loss: 0.01536\n",
            "Epoch 3600 loss: 0.01526\n",
            "Epoch 3700 loss: 0.01517\n",
            "Epoch 3800 loss: 0.01509\n",
            "Epoch 3900 loss: 0.01500\n",
            "Epoch 4000 loss: 0.01492\n",
            "Epoch 4100 loss: 0.01485\n",
            "Epoch 4200 loss: 0.01478\n",
            "Epoch 4300 loss: 0.01471\n",
            "Epoch 4400 loss: 0.01464\n",
            "Epoch 4500 loss: 0.01457\n",
            "Epoch 4600 loss: 0.01451\n",
            "Epoch 4700 loss: 0.01444\n",
            "Epoch 4800 loss: 0.01438\n",
            "Epoch 4900 loss: 0.01432\n",
            "Epoch 5000 loss: 0.01426\n",
            "Epoch 5100 loss: 0.01420\n",
            "Epoch 5200 loss: 0.01415\n",
            "Epoch 5300 loss: 0.01409\n",
            "Epoch 5400 loss: 0.01404\n",
            "Epoch 5500 loss: 0.01398\n",
            "Epoch 5600 loss: 0.01393\n",
            "Epoch 5700 loss: 0.01388\n",
            "Epoch 5800 loss: 0.01383\n",
            "Epoch 5900 loss: 0.01378\n",
            "Epoch 6000 loss: 0.01373\n",
            "Epoch 6100 loss: 0.01369\n",
            "Epoch 6200 loss: 0.01364\n",
            "Epoch 6300 loss: 0.01360\n",
            "Epoch 6400 loss: 0.01355\n",
            "Epoch 6500 loss: 0.01351\n",
            "Epoch 6600 loss: 0.01346\n",
            "Epoch 6700 loss: 0.01342\n",
            "Epoch 6800 loss: 0.01338\n",
            "Epoch 6900 loss: 0.01333\n",
            "Epoch 7000 loss: 0.01329\n",
            "Epoch 7100 loss: 0.01325\n",
            "Epoch 7200 loss: 0.01321\n",
            "Epoch 7300 loss: 0.01317\n",
            "Epoch 7400 loss: 0.01313\n",
            "Epoch 7500 loss: 0.01309\n",
            "Epoch 7600 loss: 0.01305\n",
            "Epoch 7700 loss: 0.01301\n",
            "Epoch 7800 loss: 0.01297\n",
            "Epoch 7900 loss: 0.01294\n",
            "Epoch 8000 loss: 0.01290\n",
            "Epoch 8100 loss: 0.01286\n",
            "Epoch 8200 loss: 0.01282\n",
            "Epoch 8300 loss: 0.01279\n",
            "Epoch 8400 loss: 0.01275\n",
            "Epoch 8500 loss: 0.01272\n",
            "Epoch 8600 loss: 0.01268\n",
            "Epoch 8700 loss: 0.01265\n",
            "Epoch 8800 loss: 0.01261\n",
            "Epoch 8900 loss: 0.01258\n",
            "Epoch 9000 loss: 0.01254\n",
            "Epoch 9100 loss: 0.01251\n",
            "Epoch 9200 loss: 0.01247\n",
            "Epoch 9300 loss: 0.01244\n",
            "Epoch 9400 loss: 0.01241\n",
            "Epoch 9500 loss: 0.01238\n",
            "Epoch 9600 loss: 0.01234\n",
            "Epoch 9700 loss: 0.01231\n",
            "Epoch 9800 loss: 0.01228\n",
            "Epoch 9900 loss: 0.01225\n"
          ]
        }
      ]
    },
    {
      "cell_type": "code",
      "source": [
        "# 結果の可視化\n",
        "labels_pred3 = net3(inputs_test)\n",
        "\n",
        "plt.title('隠れ層２層　活性化関数あり')\n",
        "plt.scatter(inputs_test[:,0].data, labels_pred3[:,0].data, c='b', label='予測値')\n",
        "plt.scatter(inputs_test[:,0].data, labels_test[:,0].data, c='k', marker='x',label='正解値')\n",
        "plt.legend()\n",
        "plt.show()"
      ],
      "metadata": {
        "colab": {
          "base_uri": "https://localhost:8080/",
          "height": 552
        },
        "id": "RwJ__fERpaR6",
        "outputId": "80d6abb5-5a4e-4c97-9889-208651383b2b"
      },
      "execution_count": 21,
      "outputs": [
        {
          "output_type": "display_data",
          "data": {
            "text/plain": [
              "<Figure size 600x600 with 1 Axes>"
            ],
            "image/png": "[encoded data removed]"
          },
          "metadata": {}
        }
      ]
    }
  ]
}